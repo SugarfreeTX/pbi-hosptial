{
 "cells": [
  {
   "cell_type": "markdown",
   "metadata": {},
   "source": [
    "##  Creating a new IO_TIOB dataset using updated TIOB data from PBI and latest denominator report from Shraddha. "
   ]
  },
  {
   "cell_type": "markdown",
   "metadata": {},
   "source": [
    "### Matching Patient Counts by Month\n",
    "* April 2023 - 20 \n",
    "* Feb 2023 - 11 \n",
    "* March 2023 - 14 \n",
    "* May 2023 - 17 \n",
    "* June 2023 - 13 "
   ]
  },
  {
   "cell_type": "code",
   "execution_count": 1,
   "metadata": {},
   "outputs": [],
   "source": [
    "import pandas as pd \n",
    "\n",
    "# import the data\n",
    "\n",
    "tiob_io = pd.read_csv(r'C:\\Users\\e745092\\Desktop\\Shraddha Email TIOB IO\\TIOB_IO_07052023.csv')\n",
    "\n",
    "denominator = pd.read_csv(r'C:\\Users\\e745092\\Desktop\\Shraddha Email TIOB IO\\IO_Denominator_FirstMeds_08012020_07062023.csv')"
   ]
  },
  {
   "cell_type": "code",
   "execution_count": 2,
   "metadata": {},
   "outputs": [
    {
     "name": "stdout",
     "output_type": "stream",
     "text": [
      "<class 'pandas.core.frame.DataFrame'>\n",
      "RangeIndex: 780 entries, 0 to 779\n",
      "Data columns (total 12 columns):\n",
      " #   Column             Non-Null Count  Dtype  \n",
      "---  ------             --------------  -----  \n",
      " 0   MRN                780 non-null    int64  \n",
      " 1   SID                780 non-null    object \n",
      " 2   Consent Date       780 non-null    object \n",
      " 3   On Project Status  780 non-null    object \n",
      " 4   Doctor             779 non-null    object \n",
      " 5   Site               780 non-null    object \n",
      " 6   Enrollment Status  780 non-null    object \n",
      " 7   Consent_Date       780 non-null    object \n",
      " 8   Year               780 non-null    float64\n",
      " 9   Year Month         780 non-null    object \n",
      " 10  Month Year         780 non-null    object \n",
      " 11  Fiscal Year        780 non-null    object \n",
      "dtypes: float64(1), int64(1), object(10)\n",
      "memory usage: 42.7+ KB\n"
     ]
    }
   ],
   "source": [
    "tiob_io.info()"
   ]
  },
  {
   "cell_type": "code",
   "execution_count": 3,
   "metadata": {},
   "outputs": [
    {
     "name": "stdout",
     "output_type": "stream",
     "text": [
      "<class 'pandas.core.frame.DataFrame'>\n",
      "RangeIndex: 1603 entries, 0 to 1602\n",
      "Data columns (total 29 columns):\n",
      " #   Column            Non-Null Count  Dtype  \n",
      "---  ------            --------------  -----  \n",
      " 0   PAT_MRN_ID        1603 non-null   int64  \n",
      " 1   ORDERING_PROVID   1603 non-null   int64  \n",
      " 2   ORDERING_PROV     1603 non-null   object \n",
      " 3   PROV_ID_ON_LIST   819 non-null    object \n",
      " 4   ORDER_MED_ID      1603 non-null   int64  \n",
      " 5   FIRST_TAKEN_TIME  1603 non-null   object \n",
      " 6   MEDICATION        1603 non-null   object \n",
      " 7   DX1               1603 non-null   object \n",
      " 8   DX2               169 non-null    object \n",
      " 9   DX3               0 non-null      float64\n",
      " 10  INCLUDED_DX       1603 non-null   object \n",
      " 11  Pembrolizumab     889 non-null    object \n",
      " 12  Nivolumab         299 non-null    object \n",
      " 13  Ipilimumab        11 non-null     object \n",
      " 14  Atezolizumab      219 non-null    object \n",
      " 15  Cemiplimab        42 non-null     object \n",
      " 16  Avelumab          27 non-null     object \n",
      " 17  Durvalumab        116 non-null    object \n",
      " 18  Olaratumab        0 non-null      float64\n",
      " 19  Keytruda          0 non-null      float64\n",
      " 20  Opdivo            0 non-null      float64\n",
      " 21  Yervoy            0 non-null      float64\n",
      " 22  Tecentriq         0 non-null      float64\n",
      " 23  Libtayo           0 non-null      float64\n",
      " 24  Bavencio          27 non-null     object \n",
      " 25  Imfinzi           0 non-null      float64\n",
      " 26  Lartruvo          0 non-null      float64\n",
      " 27  LOC_ID            1603 non-null   int64  \n",
      " 28  LOC_NAME          1603 non-null   object \n",
      "dtypes: float64(9), int64(4), object(16)\n",
      "memory usage: 263.1+ KB\n"
     ]
    }
   ],
   "source": [
    "denominator.info()"
   ]
  },
  {
   "cell_type": "markdown",
   "metadata": {},
   "source": [
    "PREPROCESSING DENOMINATOR REPORT"
   ]
  },
  {
   "cell_type": "code",
   "execution_count": 4,
   "metadata": {},
   "outputs": [
    {
     "name": "stdout",
     "output_type": "stream",
     "text": [
      "<class 'pandas.core.frame.DataFrame'>\n",
      "RangeIndex: 1603 entries, 0 to 1602\n",
      "Data columns (total 8 columns):\n",
      " #   Column            Non-Null Count  Dtype \n",
      "---  ------            --------------  ----- \n",
      " 0   MRN               1603 non-null   int32 \n",
      " 1   ORDERING_PROVID   1603 non-null   int64 \n",
      " 2   ORDERING_PROV     1603 non-null   object\n",
      " 3   ORDER_MED_ID      1603 non-null   int64 \n",
      " 4   FIRST_TAKEN_TIME  1603 non-null   object\n",
      " 5   MEDICATION        1603 non-null   object\n",
      " 6   DX1               1603 non-null   object\n",
      " 7   LOC_NAME          1603 non-null   object\n",
      "dtypes: int32(1), int64(2), object(5)\n",
      "memory usage: 62.7+ KB\n"
     ]
    }
   ],
   "source": [
    "# create a new dataframe with the columns we need from the denominator file\n",
    "denominator_cp = pd.DataFrame(denominator, columns = ['PAT_MRN_ID', 'ORDERING_PROVID', 'ORDERING_PROV', 'ORDER_MED_ID', 'FIRST_TAKEN_TIME', 'MEDICATION', 'DX1', 'LOC_NAME'])\n",
    "\n",
    "# convert the MRN column to an integer\n",
    "denominator_cp['PAT_MRN_ID'] = denominator_cp['PAT_MRN_ID'].astype(int)\n",
    "\n",
    "# rename PAT_MRN_ID to MRN\n",
    "denominator_cp.rename(columns = {'PAT_MRN_ID': 'MRN'}, inplace = True)\n",
    "\n",
    "denominator_cp.info()"
   ]
  },
  {
   "cell_type": "markdown",
   "metadata": {},
   "source": [
    "### INNER MERGE BOTH DF \n",
    "\n",
    "TO GET MATCHING MRNS FOUND IN BOTH REPORTS "
   ]
  },
  {
   "cell_type": "code",
   "execution_count": 5,
   "metadata": {},
   "outputs": [
    {
     "name": "stdout",
     "output_type": "stream",
     "text": [
      "<class 'pandas.core.frame.DataFrame'>\n",
      "Int64Index: 274 entries, 0 to 273\n",
      "Data columns (total 20 columns):\n",
      " #   Column             Non-Null Count  Dtype   \n",
      "---  ------             --------------  -----   \n",
      " 0   MRN                274 non-null    int32   \n",
      " 1   ORDERING_PROVID    274 non-null    int64   \n",
      " 2   ORDERING_PROV      274 non-null    object  \n",
      " 3   ORDER_MED_ID       274 non-null    int64   \n",
      " 4   FIRST_TAKEN_TIME   274 non-null    object  \n",
      " 5   MEDICATION         274 non-null    object  \n",
      " 6   DX1                274 non-null    object  \n",
      " 7   LOC_NAME           274 non-null    object  \n",
      " 8   SID                274 non-null    object  \n",
      " 9   Consent Date       274 non-null    object  \n",
      " 10  On Project Status  274 non-null    object  \n",
      " 11  Doctor             273 non-null    object  \n",
      " 12  Site               274 non-null    object  \n",
      " 13  Enrollment Status  274 non-null    object  \n",
      " 14  Consent_Date       274 non-null    object  \n",
      " 15  Year               274 non-null    float64 \n",
      " 16  Year Month         274 non-null    object  \n",
      " 17  Month Year         274 non-null    object  \n",
      " 18  Fiscal Year        274 non-null    object  \n",
      " 19  _merge             274 non-null    category\n",
      "dtypes: category(1), float64(1), int32(1), int64(2), object(15)\n",
      "memory usage: 26.0+ KB\n"
     ]
    }
   ],
   "source": [
    "innerjoin_df = pd.merge(denominator_cp, tiob_io, on='MRN', how='inner', indicator=True)\n",
    "innerjoin_df.info()"
   ]
  },
  {
   "cell_type": "code",
   "execution_count": 6,
   "metadata": {},
   "outputs": [],
   "source": [
    "# TO CSV \n",
    "# innerjoin_df.to_csv(r'C:\\Users\\e745092\\Desktop\\Shraddha Email TIOB IO\\IO_Denominator_TIOBIO2.csv', index = False)"
   ]
  },
  {
   "cell_type": "markdown",
   "metadata": {},
   "source": [
    "### OUTER MERGE BOTH DF\n",
    "\n",
    "TO GET NON MATCHING MRNS FROM BOTH REPORTS"
   ]
  },
  {
   "cell_type": "code",
   "execution_count": 7,
   "metadata": {},
   "outputs": [
    {
     "name": "stdout",
     "output_type": "stream",
     "text": [
      "<class 'pandas.core.frame.DataFrame'>\n",
      "Int64Index: 2109 entries, 0 to 2108\n",
      "Data columns (total 20 columns):\n",
      " #   Column             Non-Null Count  Dtype   \n",
      "---  ------             --------------  -----   \n",
      " 0   MRN                2109 non-null   int64   \n",
      " 1   ORDERING_PROVID    1603 non-null   float64 \n",
      " 2   ORDERING_PROV      1603 non-null   object  \n",
      " 3   ORDER_MED_ID       1603 non-null   float64 \n",
      " 4   FIRST_TAKEN_TIME   1603 non-null   object  \n",
      " 5   MEDICATION         1603 non-null   object  \n",
      " 6   DX1                1603 non-null   object  \n",
      " 7   LOC_NAME           1603 non-null   object  \n",
      " 8   SID                780 non-null    object  \n",
      " 9   Consent Date       780 non-null    object  \n",
      " 10  On Project Status  780 non-null    object  \n",
      " 11  Doctor             779 non-null    object  \n",
      " 12  Site               780 non-null    object  \n",
      " 13  Enrollment Status  780 non-null    object  \n",
      " 14  Consent_Date       780 non-null    object  \n",
      " 15  Year               780 non-null    float64 \n",
      " 16  Year Month         780 non-null    object  \n",
      " 17  Month Year         780 non-null    object  \n",
      " 18  Fiscal Year        780 non-null    object  \n",
      " 19  _merge             2109 non-null   category\n",
      "dtypes: category(1), float64(3), int64(1), object(15)\n",
      "memory usage: 208.1+ KB\n"
     ]
    }
   ],
   "source": [
    "outerjoin_df = pd.merge(denominator_cp, tiob_io, on='MRN', how='outer', indicator=True)\n",
    "outerjoin_df.info()"
   ]
  },
  {
   "cell_type": "markdown",
   "metadata": {},
   "source": [
    "### APPEND BOTH TO FORM ONE DF \n",
    "APPEND OUTER AND INNER DF TO FORM ONE DF"
   ]
  },
  {
   "cell_type": "code",
   "execution_count": 8,
   "metadata": {},
   "outputs": [
    {
     "name": "stdout",
     "output_type": "stream",
     "text": [
      "<class 'pandas.core.frame.DataFrame'>\n",
      "Int64Index: 2383 entries, 0 to 2108\n",
      "Data columns (total 20 columns):\n",
      " #   Column             Non-Null Count  Dtype   \n",
      "---  ------             --------------  -----   \n",
      " 0   MRN                2383 non-null   int64   \n",
      " 1   ORDERING_PROVID    1877 non-null   float64 \n",
      " 2   ORDERING_PROV      1877 non-null   object  \n",
      " 3   ORDER_MED_ID       1877 non-null   float64 \n",
      " 4   FIRST_TAKEN_TIME   1877 non-null   object  \n",
      " 5   MEDICATION         1877 non-null   object  \n",
      " 6   DX1                1877 non-null   object  \n",
      " 7   LOC_NAME           1877 non-null   object  \n",
      " 8   SID                1054 non-null   object  \n",
      " 9   Consent Date       1054 non-null   object  \n",
      " 10  On Project Status  1054 non-null   object  \n",
      " 11  Doctor             1052 non-null   object  \n",
      " 12  Site               1054 non-null   object  \n",
      " 13  Enrollment Status  1054 non-null   object  \n",
      " 14  Consent_Date       1054 non-null   object  \n",
      " 15  Year               1054 non-null   float64 \n",
      " 16  Year Month         1054 non-null   object  \n",
      " 17  Month Year         1054 non-null   object  \n",
      " 18  Fiscal Year        1054 non-null   object  \n",
      " 19  _merge             2383 non-null   category\n",
      "dtypes: category(1), float64(3), int64(1), object(15)\n",
      "memory usage: 235.1+ KB\n"
     ]
    }
   ],
   "source": [
    "append_df = innerjoin_df.append(outerjoin_df)\n",
    "\n",
    "# TO SHOW ALL ROWS AND COLUMNS RESULT \n",
    "append_df.info()"
   ]
  },
  {
   "cell_type": "markdown",
   "metadata": {},
   "source": [
    "Remove Duplicate MRNs"
   ]
  },
  {
   "cell_type": "code",
   "execution_count": 9,
   "metadata": {},
   "outputs": [
    {
     "name": "stdout",
     "output_type": "stream",
     "text": [
      "<class 'pandas.core.frame.DataFrame'>\n",
      "Int64Index: 2109 entries, 0 to 2108\n",
      "Data columns (total 20 columns):\n",
      " #   Column             Non-Null Count  Dtype   \n",
      "---  ------             --------------  -----   \n",
      " 0   MRN                2109 non-null   int64   \n",
      " 1   ORDERING_PROVID    1603 non-null   float64 \n",
      " 2   ORDERING_PROV      1603 non-null   object  \n",
      " 3   ORDER_MED_ID       1603 non-null   float64 \n",
      " 4   FIRST_TAKEN_TIME   1603 non-null   object  \n",
      " 5   MEDICATION         1603 non-null   object  \n",
      " 6   DX1                1603 non-null   object  \n",
      " 7   LOC_NAME           1603 non-null   object  \n",
      " 8   SID                780 non-null    object  \n",
      " 9   Consent Date       780 non-null    object  \n",
      " 10  On Project Status  780 non-null    object  \n",
      " 11  Doctor             779 non-null    object  \n",
      " 12  Site               780 non-null    object  \n",
      " 13  Enrollment Status  780 non-null    object  \n",
      " 14  Consent_Date       780 non-null    object  \n",
      " 15  Year               780 non-null    float64 \n",
      " 16  Year Month         780 non-null    object  \n",
      " 17  Month Year         780 non-null    object  \n",
      " 18  Fiscal Year        780 non-null    object  \n",
      " 19  _merge             2109 non-null   category\n",
      "dtypes: category(1), float64(3), int64(1), object(15)\n",
      "memory usage: 208.1+ KB\n"
     ]
    }
   ],
   "source": [
    "append_df_copy = append_df.copy()\n",
    "\n",
    "append_df_copy.drop_duplicates(subset = ['MRN'], keep = 'first', inplace = True)\n",
    "\n",
    "append_df_copy.info()"
   ]
  },
  {
   "cell_type": "markdown",
   "metadata": {},
   "source": [
    "Create FIRST_TAKEN_CONSENT_TIME column \n"
   ]
  },
  {
   "cell_type": "code",
   "execution_count": 10,
   "metadata": {},
   "outputs": [],
   "source": [
    "# create new column using Consent Date and fill null values with FIRST_TAKEN_TIME\n",
    "\n",
    "append_df_copy['FIRST_TAKEN_CONSENT_TIME'] = append_df_copy['Consent Date'].fillna(append_df_copy['FIRST_TAKEN_TIME'])"
   ]
  },
  {
   "cell_type": "code",
   "execution_count": 11,
   "metadata": {},
   "outputs": [
    {
     "data": {
      "text/plain": [
       "['TEMPLE CLINIC',\n",
       " 'BAYLOR SCOTT & WHITE MCCLINTON CANCER CENTER',\n",
       " 'BSW CHARLES A SAMMONS CANCER CENTER - DUNCANVILLE',\n",
       " 'BAYLOR SCOTT & WHITE MEDICAL CENTER - WAXAHACHIE',\n",
       " 'BAYLOR SCOTT & WHITE CANCER CENTER & CLINIC RR',\n",
       " 'BAYLOR SCOTT & WHITE CLINIC - COLLEGE STATION ROCK PRAIRIE',\n",
       " 'BAYLOR SCOTT & WHITE SPECIALTY CLINIC - MARBLE FALLS',\n",
       " 'BAYLOR SCOTT & WHITE ALL SAINTS MEDICAL CENTER - FORT WORTH',\n",
       " 'BAYLOR SCOTT & WHITE CANCER CENTER - KILLEEN',\n",
       " 'BAYLOR UNIVERSITY MEDICAL CENTER AT DALLAS',\n",
       " 'BAYLOR SCOTT & WHITE MEDICAL CENTER - MCKINNEY',\n",
       " 'BAYLOR SCOTT & WHITE MEDICAL CENTER - PLANO',\n",
       " 'BAYLOR SCOTT & WHITE MEDICAL CENTER - AUSTIN',\n",
       " 'BAYLOR SCOTT & WHITE MCLANE CHILDRENS SPECIALTY CLINIC TEMPLE',\n",
       " 'BSW DALLAS NEURO ONCOLOGY ASSOCIATES',\n",
       " 'BAYLOR SCOTT & WHITE MEDICAL CENTER - GRAPEVINE',\n",
       " nan]"
      ]
     },
     "execution_count": 11,
     "metadata": {},
     "output_type": "execute_result"
    }
   ],
   "source": [
    "append_df_copy.LOC_NAME.unique().tolist()"
   ]
  },
  {
   "cell_type": "markdown",
   "metadata": {},
   "source": [
    "SITES LOC_NAME to LOCATIONS column\n",
    "\n",
    "* TEMPLE CLINIC = Temple \n",
    "* BSW CLINIC - COLLEGE STATION ROCK PRAIRIE == College Station\n",
    "* BSW CANCER CENTER & CLINIC RR \n",
    "* ALL SAINTS MEDICAL CENTER - FORT WORTH == BAS \n",
    "* BSW MEDICAL CENTER - WAXAHACHIE == Wax \n",
    "* BSW MEDICAL CENTER - PLANO == Plano \n",
    "* BAYLOR UNIVERSITY MEDICAL CENTER AT DALLAS == BUMC\n"
   ]
  },
  {
   "cell_type": "code",
   "execution_count": 28,
   "metadata": {},
   "outputs": [],
   "source": [
    "# Create LOCATION column using LOC_NAME and fill in null values with SITE\n",
    "\n",
    "append_df_copy['LOCATION'] = append_df_copy['Site'].fillna(append_df_copy['LOC_NAME'])\n",
    "\n",
    "# shorten names of the location column \n",
    "\n",
    "# append_df_copy['LOCATION'] = append_df_copy['LOCATION'].map({\n",
    "#     'BAYLOR SCOTT & WHITE MCLANE CHILDRENS SPECIALTY CLINIC TEMPLE': 'Temple',\n",
    "#     'TEMPLE CLINIC': 'Temple',\n",
    "#     'BAYLOR SCOTT & WHITE CLINIC - COLLEGE STATION ROCK PRAIRIE': 'College Station',\n",
    "#     'BAYLOR SCOTT & WHITE CANCER CENTER & CLINIC RR': 'RR',\n",
    "#     'BAYLOR SCOTT & WHITE MEDICAL CENTER - WAXAHACHIE': 'Wax',\n",
    "#     'BAYLOR SCOTT & WHITE ALL SAINTS MEDICAL CENTER - FORT WORTH': 'BAS',\n",
    "#     'BAYLOR UNIVERSITY MEDICAL CENTER AT DALLAS': 'BUMC',\n",
    "#     'BAYLOR SCOTT & WHITE MEDICAL CENTER - PLANO': 'Plano',\n",
    "# })\n",
    "\n",
    "# TEMPLE NAME CHANGES\n",
    "df_copy = append_df_copy.replace(to_replace = 'TEMPLE CLINIC', value = 'Temple', regex = True, inplace = True )\n",
    "df_copy = append_df_copy.replace(to_replace = 'BAYLOR SCOTT & WHITE MCLANE CHILDRENS SPECIALTY CLINIC TEMPLE', value = 'Temple', regex = True, inplace = True )\n",
    "\n",
    "# # COLLEGE STATION NAME CHANGES\n",
    "df_copy = append_df_copy.replace(to_replace = 'BAYLOR SCOTT & WHITE CLINIC - COLLEGE STATION ROCK PRAIRIE', value = 'College Station', regex = True, inplace=True) \n",
    "\n",
    "# RR \n",
    "df_copy = append_df_copy.replace(to_replace = 'BAYLOR SCOTT & WHITE CANCER CENTER & CLINIC RR', value = 'RR', regex = True, inplace=True)\n",
    "\n",
    "# # WAX \n",
    "df_updated = append_df_copy.replace(to_replace = 'BAYLOR SCOTT & WHITE MEDICAL CENTER - WAXAHACHIE', value = 'Wax', regex = True, inplace=True)\n",
    "\n",
    "# # BAS \n",
    "df_updated = append_df_copy.replace(to_replace = 'BAYLOR SCOTT & WHITE ALL SAINTS MEDICAL CENTER - FORT WORTH', value = 'BAS', regex = True, inplace=True)\n",
    "\n",
    "# # BUMC\n",
    "df_updated = append_df_copy.replace(to_replace = 'BAYLOR UNIVERSITY MEDICAL CENTER AT DALLAS', value = 'BUMC', regex = True, inplace=True)\n",
    "\n",
    "# # PLANO \n",
    "df_updated = append_df_copy.replace(to_replace = 'BAYLOR SCOTT & WHITE MEDICAL CENTER - PLANO', value = 'Plano', regex = True, inplace=True)\n",
    "\n",
    "# shorten names of the location column\n",
    "df_updated = append_df_copy.replace(to_replace ='BAYLOR SCOTT & WHITE', value = 'BSW', regex = True, inplace=True)"
   ]
  },
  {
   "cell_type": "code",
   "execution_count": 29,
   "metadata": {},
   "outputs": [
    {
     "data": {
      "text/plain": [
       "['Temple',\n",
       " 'Waco',\n",
       " 'Wax',\n",
       " 'RR',\n",
       " 'College Station',\n",
       " 'BSW MCCLINTON CANCER CENTER',\n",
       " 'BAS',\n",
       " 'BSW CANCER CENTER - KILLEEN',\n",
       " 'BSW SPECIALTY CLINIC - MARBLE FALLS',\n",
       " 'BSW CHARLES A SAMMONS CANCER CENTER - DUNCANVILLE',\n",
       " 'BUMC',\n",
       " 'BSW MEDICAL CENTER - MCKINNEY',\n",
       " 'Plano',\n",
       " 'BSW MEDICAL CENTER - AUSTIN',\n",
       " 'BSW DALLAS NEURO ONCOLOGY ASSOCIATES',\n",
       " 'BSW MEDICAL CENTER - GRAPEVINE']"
      ]
     },
     "execution_count": 29,
     "metadata": {},
     "output_type": "execute_result"
    }
   ],
   "source": [
    "append_df_copy.LOCATION.unique().tolist()"
   ]
  },
  {
   "cell_type": "code",
   "execution_count": 31,
   "metadata": {},
   "outputs": [
    {
     "name": "stdout",
     "output_type": "stream",
     "text": [
      "<class 'pandas.core.frame.DataFrame'>\n",
      "Int64Index: 2109 entries, 0 to 2108\n",
      "Data columns (total 22 columns):\n",
      " #   Column                    Non-Null Count  Dtype   \n",
      "---  ------                    --------------  -----   \n",
      " 0   MRN                       2109 non-null   int64   \n",
      " 1   ORDERING_PROVID           1603 non-null   float64 \n",
      " 2   ORDERING_PROV             1603 non-null   object  \n",
      " 3   ORDER_MED_ID              1603 non-null   float64 \n",
      " 4   FIRST_TAKEN_TIME          1603 non-null   object  \n",
      " 5   MEDICATION                1603 non-null   object  \n",
      " 6   DX1                       1603 non-null   object  \n",
      " 7   LOC_NAME                  1603 non-null   object  \n",
      " 8   SID                       780 non-null    object  \n",
      " 9   Consent Date              780 non-null    object  \n",
      " 10  On Project Status         780 non-null    object  \n",
      " 11  Doctor                    779 non-null    object  \n",
      " 12  Site                      780 non-null    object  \n",
      " 13  Enrollment Status         780 non-null    object  \n",
      " 14  Consent_Date              780 non-null    object  \n",
      " 15  Year                      780 non-null    float64 \n",
      " 16  Year Month                780 non-null    object  \n",
      " 17  Month Year                780 non-null    object  \n",
      " 18  Fiscal Year               780 non-null    object  \n",
      " 19  _merge                    2109 non-null   category\n",
      " 20  FIRST_TAKEN_CONSENT_TIME  2109 non-null   object  \n",
      " 21  LOCATION                  2109 non-null   object  \n",
      "dtypes: category(1), float64(3), int64(1), object(17)\n",
      "memory usage: 224.6+ KB\n"
     ]
    }
   ],
   "source": [
    "append_df_copy.info()"
   ]
  },
  {
   "cell_type": "code",
   "execution_count": 32,
   "metadata": {},
   "outputs": [],
   "source": [
    "# to csv \n",
    "\n",
    "# append_df_copy.to_csv(r'C:\\Users\\e745092\\Desktop\\Shraddha Email TIOB IO\\Output\\io_tiob_updated.csv', index = False)"
   ]
  },
  {
   "cell_type": "code",
   "execution_count": null,
   "metadata": {},
   "outputs": [],
   "source": []
  }
 ],
 "metadata": {
  "kernelspec": {
   "display_name": "Python 3",
   "language": "python",
   "name": "python3"
  },
  "language_info": {
   "codemirror_mode": {
    "name": "ipython",
    "version": 3
   },
   "file_extension": ".py",
   "mimetype": "text/x-python",
   "name": "python",
   "nbconvert_exporter": "python",
   "pygments_lexer": "ipython3",
   "version": "3.7.4"
  },
  "orig_nbformat": 4
 },
 "nbformat": 4,
 "nbformat_minor": 2
}
